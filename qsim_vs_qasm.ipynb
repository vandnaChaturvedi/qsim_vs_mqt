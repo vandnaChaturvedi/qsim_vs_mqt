{
 "cells": [
  {
   "cell_type": "code",
   "execution_count": 1,
   "id": "71398ff0-9708-4431-b2cd-9bec23dfaa6b",
   "metadata": {
    "execution": {
     "iopub.execute_input": "2025-03-25T06:58:16.402724Z",
     "iopub.status.busy": "2025-03-25T06:58:16.402575Z",
     "iopub.status.idle": "2025-03-25T06:58:17.041142Z",
     "shell.execute_reply": "2025-03-25T06:58:17.040727Z",
     "shell.execute_reply.started": "2025-03-25T06:58:16.402706Z"
    }
   },
   "outputs": [
    {
     "name": "stdout",
     "output_type": "stream",
     "text": [
      "[PosixPath('qasm_files/dj_indep_qiskit_10.qasm'), PosixPath('qasm_files/ghz_indep_qiskit_10.qasm')]\n"
     ]
    }
   ],
   "source": [
    "from qiskit import *\n",
    "from qiskit.visualization import circuit_drawer,plot_histogram\n",
    "from pathlib import Path\n",
    "import os\n",
    "import time\n",
    "# Load QASM from a file\n",
    "qasm_folder = Path(\"./qasm_files/\")\n",
    "qasm_filename = list(qasm_folder.glob(\"*.qasm\")) #using glob to get a list of files.\n",
    "print(qasm_filename)"
   ]
  },
  {
   "cell_type": "code",
   "execution_count": 2,
   "id": "6bde8380-4521-491d-9893-9eaed4d154c9",
   "metadata": {
    "execution": {
     "iopub.execute_input": "2025-03-25T06:58:17.041721Z",
     "iopub.status.busy": "2025-03-25T06:58:17.041557Z",
     "iopub.status.idle": "2025-03-25T06:58:17.043757Z",
     "shell.execute_reply": "2025-03-25T06:58:17.043440Z",
     "shell.execute_reply.started": "2025-03-25T06:58:17.041707Z"
    }
   },
   "outputs": [],
   "source": [
    "def extract_filename(file_path):\n",
    "    filename = os.path.basename(file_path) \n",
    "    if \".qasm\" in filename:\n",
    "        return filename.split(\".qasm\")[0] "
   ]
  },
  {
   "cell_type": "code",
   "execution_count": 4,
   "id": "e9944901-d19a-4108-a429-7de94cae07a4",
   "metadata": {
    "execution": {
     "iopub.execute_input": "2025-03-25T06:59:04.439112Z",
     "iopub.status.busy": "2025-03-25T06:59:04.438750Z",
     "iopub.status.idle": "2025-03-25T06:59:28.400924Z",
     "shell.execute_reply": "2025-03-25T06:59:28.400447Z",
     "shell.execute_reply.started": "2025-03-25T06:59:04.439077Z"
    }
   },
   "outputs": [
    {
     "name": "stdout",
     "output_type": "stream",
     "text": [
      "******************************** AlgoNumber- 1 out of  2 - dj_indep_qiskit_10 ********************************\n",
      "      ┌─────────┐      ┌───────────┐                                    »\n",
      "q_0: ─┤ U2(0,0) ├───■──┤ U2(-π,-π) ├────────────────────────────────────»\n",
      "      ├─────────┤   │  └───────────┘┌───────────┐                       »\n",
      "q_1: ─┤ U2(0,0) ├───┼────────■──────┤ U2(-π,-π) ├───────────────────────»\n",
      "      └──┬───┬──┘   │        │      └───────────┘┌───┐                  »\n",
      "q_2: ────┤ H ├──────┼────────┼────────────■──────┤ H ├──────────────────»\n",
      "      ┌──┴───┴──┐   │        │            │      └───┘┌───────────┐     »\n",
      "q_3: ─┤ U2(0,0) ├───┼────────┼────────────┼────────■──┤ U2(-π,-π) ├─────»\n",
      "      └──┬───┬──┘   │        │            │        │  └───────────┘┌───┐»\n",
      "q_4: ────┤ H ├──────┼────────┼────────────┼────────┼────────■──────┤ H ├»\n",
      "      ┌──┴───┴──┐   │        │            │        │        │      └───┘»\n",
      "q_5: ─┤ U2(0,0) ├───┼────────┼────────────┼────────┼────────┼────────■──»\n",
      "      ├─────────┤   │        │            │        │        │        │  »\n",
      "q_6: ─┤ U2(0,0) ├───┼────────┼────────────┼────────┼────────┼────────┼──»\n",
      "      └──┬───┬──┘   │        │            │        │        │        │  »\n",
      "q_7: ────┤ H ├──────┼────────┼────────────┼────────┼────────┼────────┼──»\n",
      "      ┌──┴───┴──┐   │        │            │        │        │        │  »\n",
      "q_8: ─┤ U2(0,0) ├───┼────────┼────────────┼────────┼────────┼────────┼──»\n",
      "     ┌┴─────────┴┐┌─┴─┐    ┌─┴─┐        ┌─┴─┐    ┌─┴─┐    ┌─┴─┐    ┌─┴─┐»\n",
      "q_9: ┤ U2(-π,-π) ├┤ X ├────┤ X ├────────┤ X ├────┤ X ├────┤ X ├────┤ X ├»\n",
      "     └───────────┘└───┘    └───┘        └───┘    └───┘    └───┘    └───┘»\n",
      "c: 9/═══════════════════════════════════════════════════════════════════»\n",
      "                                                                        »\n",
      "«                                                  ░ ┌─┐                     »\n",
      "«q_0: ─────────────────────────────────────────────░─┤M├─────────────────────»\n",
      "«                                                  ░ └╥┘┌─┐                  »\n",
      "«q_1: ─────────────────────────────────────────────░──╫─┤M├──────────────────»\n",
      "«                                                  ░  ║ └╥┘┌─┐               »\n",
      "«q_2: ─────────────────────────────────────────────░──╫──╫─┤M├───────────────»\n",
      "«                                                  ░  ║  ║ └╥┘┌─┐            »\n",
      "«q_3: ─────────────────────────────────────────────░──╫──╫──╫─┤M├────────────»\n",
      "«                                                  ░  ║  ║  ║ └╥┘┌─┐         »\n",
      "«q_4: ─────────────────────────────────────────────░──╫──╫──╫──╫─┤M├─────────»\n",
      "«     ┌───────────┐                                ░  ║  ║  ║  ║ └╥┘┌─┐      »\n",
      "«q_5: ┤ U2(-π,-π) ├────────────────────────────────░──╫──╫──╫──╫──╫─┤M├──────»\n",
      "«     └───────────┘┌───────────┐                   ░  ║  ║  ║  ║  ║ └╥┘┌─┐   »\n",
      "«q_6: ──────■──────┤ U2(-π,-π) ├───────────────────░──╫──╫──╫──╫──╫──╫─┤M├───»\n",
      "«           │      └───────────┘┌───┐              ░  ║  ║  ║  ║  ║  ║ └╥┘┌─┐»\n",
      "«q_7: ──────┼────────────■──────┤ H ├──────────────░──╫──╫──╫──╫──╫──╫──╫─┤M├»\n",
      "«           │            │      └───┘┌───────────┐ ░  ║  ║  ║  ║  ║  ║  ║ └╥┘»\n",
      "«q_8: ──────┼────────────┼────────■──┤ U2(-π,-π) ├─░──╫──╫──╫──╫──╫──╫──╫──╫─»\n",
      "«         ┌─┴─┐        ┌─┴─┐    ┌─┴─┐└───────────┘ ░  ║  ║  ║  ║  ║  ║  ║  ║ »\n",
      "«q_9: ────┤ X ├────────┤ X ├────┤ X ├──────────────░──╫──╫──╫──╫──╫──╫──╫──╫─»\n",
      "«         └───┘        └───┘    └───┘              ░  ║  ║  ║  ║  ║  ║  ║  ║ »\n",
      "«c: 9/════════════════════════════════════════════════╩══╩══╩══╩══╩══╩══╩══╩═»\n",
      "«                                                     0  1  2  3  4  5  6  7 »\n",
      "«        \n",
      "«q_0: ───\n",
      "«        \n",
      "«q_1: ───\n",
      "«        \n",
      "«q_2: ───\n",
      "«        \n",
      "«q_3: ───\n",
      "«        \n",
      "«q_4: ───\n",
      "«        \n",
      "«q_5: ───\n",
      "«        \n",
      "«q_6: ───\n",
      "«        \n",
      "«q_7: ───\n",
      "«     ┌─┐\n",
      "«q_8: ┤M├\n",
      "«     └╥┘\n",
      "«q_9: ─╫─\n",
      "«      ║ \n",
      "«c: 9/═╩═\n",
      "«      8 \n",
      "Execution time of  dm_simulator ::  12.28260087966919 seconds\n",
      "Execution time of  qasm_simulator ::  0.009169578552246094 seconds\n",
      "******************************** AlgoNumber- 2 out of  2 - ghz_indep_qiskit_10 ********************************\n",
      "                                                      ┌───┐ ░ ┌─┐            »\n",
      "    q_0: ─────────────────────────────────────────────┤ X ├─░─┤M├────────────»\n",
      "                                                 ┌───┐└─┬─┘ ░ └╥┘┌─┐         »\n",
      "    q_1: ────────────────────────────────────────┤ X ├──■───░──╫─┤M├─────────»\n",
      "                                            ┌───┐└─┬─┘      ░  ║ └╥┘┌─┐      »\n",
      "    q_2: ───────────────────────────────────┤ X ├──■────────░──╫──╫─┤M├──────»\n",
      "                                       ┌───┐└─┬─┘           ░  ║  ║ └╥┘┌─┐   »\n",
      "    q_3: ──────────────────────────────┤ X ├──■─────────────░──╫──╫──╫─┤M├───»\n",
      "                                  ┌───┐└─┬─┘                ░  ║  ║  ║ └╥┘┌─┐»\n",
      "    q_4: ─────────────────────────┤ X ├──■──────────────────░──╫──╫──╫──╫─┤M├»\n",
      "                             ┌───┐└─┬─┘                     ░  ║  ║  ║  ║ └╥┘»\n",
      "    q_5: ────────────────────┤ X ├──■───────────────────────░──╫──╫──╫──╫──╫─»\n",
      "                        ┌───┐└─┬─┘                          ░  ║  ║  ║  ║  ║ »\n",
      "    q_6: ───────────────┤ X ├──■────────────────────────────░──╫──╫──╫──╫──╫─»\n",
      "                   ┌───┐└─┬─┘                               ░  ║  ║  ║  ║  ║ »\n",
      "    q_7: ──────────┤ X ├──■─────────────────────────────────░──╫──╫──╫──╫──╫─»\n",
      "              ┌───┐└─┬─┘                                    ░  ║  ║  ║  ║  ║ »\n",
      "    q_8: ─────┤ X ├──■──────────────────────────────────────░──╫──╫──╫──╫──╫─»\n",
      "         ┌───┐└─┬─┘                                         ░  ║  ║  ║  ║  ║ »\n",
      "    q_9: ┤ H ├──■───────────────────────────────────────────░──╫──╫──╫──╫──╫─»\n",
      "         └───┘                                              ░  ║  ║  ║  ║  ║ »\n",
      "meas: 10/══════════════════════════════════════════════════════╩══╩══╩══╩══╩═»\n",
      "                                                               0  1  2  3  4 »\n",
      "«                        \n",
      "«    q_0: ───────────────\n",
      "«                        \n",
      "«    q_1: ───────────────\n",
      "«                        \n",
      "«    q_2: ───────────────\n",
      "«                        \n",
      "«    q_3: ───────────────\n",
      "«                        \n",
      "«    q_4: ───────────────\n",
      "«         ┌─┐            \n",
      "«    q_5: ┤M├────────────\n",
      "«         └╥┘┌─┐         \n",
      "«    q_6: ─╫─┤M├─────────\n",
      "«          ║ └╥┘┌─┐      \n",
      "«    q_7: ─╫──╫─┤M├──────\n",
      "«          ║  ║ └╥┘┌─┐   \n",
      "«    q_8: ─╫──╫──╫─┤M├───\n",
      "«          ║  ║  ║ └╥┘┌─┐\n",
      "«    q_9: ─╫──╫──╫──╫─┤M├\n",
      "«          ║  ║  ║  ║ └╥┘\n",
      "«meas: 10/═╩══╩══╩══╩══╩═\n",
      "«          5  6  7  8  9 \n",
      "Execution time of  dm_simulator ::  11.599958896636963 seconds\n",
      "Execution time of  qasm_simulator ::  0.007265806198120117 seconds\n"
     ]
    }
   ],
   "source": [
    "prob_qsim={}\n",
    "prob_qasm={}\n",
    "dm_sim = BasicAer.get_backend('dm_simulator')\n",
    "qasm_sim =  BasicAer.get_backend(\"qasm_simulator\")\n",
    "j=1\n",
    "for i in qasm_filename: \n",
    "    k=len(qasm_filename)\n",
    "    with open(i, \"r\") as file:\n",
    "        qasm_str = file.read()  # Read QASM as string\n",
    "        circuit = QuantumCircuit.from_qasm_str(qasm_str)\n",
    "        ckt_name=extract_filename(i)\n",
    "        print(\"******************************** AlgoNumber-\",j,\"out of \",k, \"-\",ckt_name,\"********************************\")\n",
    "        print(circuit)\n",
    "\n",
    "        \n",
    "        start= time.time()\n",
    "        run = execute(circuit,dm_sim)\n",
    "        end= time.time()\n",
    "        result = run.result()\n",
    "        print(\"Execution time of \",dm_sim,\":: \", end-start,\"seconds\")\n",
    "        #print('Density Matrix: \\n',result['results'][0]['data']['densitymatrix'])\n",
    "        prob_qsim[ckt_name]=result.results[0].data.partial_probability\n",
    "\n",
    "        start1= time.time()\n",
    "        run1 = execute(circuit,qasm_sim)\n",
    "        end1= time.time()\n",
    "        result1 = run1.result()\n",
    "        print(\"Execution time of \",qasm_sim,\":: \", end1-start1,\"seconds\")\n",
    "        #print(\"result:\",result)\n",
    "        #prob_qasm[ckt_name]=result2.results[0].data.partial_probability\n",
    "        prob_qasm[ckt_name]=result1.results[0].data.counts\n",
    "        \n",
    "        j=j+1\n",
    "#print(prob_qsim)\n",
    "#print(prob_qasm)"
   ]
  },
  {
   "cell_type": "code",
   "execution_count": 5,
   "id": "05378fc3-1ecd-4f33-b2e3-dfa72122a5e3",
   "metadata": {
    "execution": {
     "iopub.execute_input": "2025-03-25T06:59:31.492815Z",
     "iopub.status.busy": "2025-03-25T06:59:31.492579Z",
     "iopub.status.idle": "2025-03-25T06:59:31.702958Z",
     "shell.execute_reply": "2025-03-25T06:59:31.702542Z",
     "shell.execute_reply.started": "2025-03-25T06:59:31.492795Z"
    }
   },
   "outputs": [
    {
     "name": "stdout",
     "output_type": "stream",
     "text": [
      "dj_indep_qiskit_10\n",
      "{'111111111': 1.0}\n",
      "ghz_indep_qiskit_10\n",
      "{'0000000000': 0.5, '1111111111': 0.5}\n"
     ]
    }
   ],
   "source": [
    "%matplotlib inline\n",
    "from qiskit.visualization import circuit_drawer,plot_histogram\n",
    "import matplotlib\n",
    "import matplotlib.pyplot as plt\n",
    "matplotlib.use(\"TkAgg\")\n",
    "qsim_non_zero ={}\n",
    "for ckt, probs in prob_qsim.items():\n",
    "    print(ckt) \n",
    "    filtered_probs = {key: value for key, value in probs.items() if value > 0} #Filtere-out zero-values\n",
    "    keys = list(filtered_probs.keys())\n",
    "    values = list(filtered_probs.values())\n",
    "    qsim_non_zero = dict(zip(keys, values))\n",
    "    print(qsim_non_zero)\n",
    "    plot_histogram(qsim_non_zero).show() "
   ]
  },
  {
   "cell_type": "code",
   "execution_count": 6,
   "id": "aa3ce3a3-2c76-4244-9780-4123b435e304",
   "metadata": {
    "execution": {
     "iopub.execute_input": "2025-03-25T06:59:32.511866Z",
     "iopub.status.busy": "2025-03-25T06:59:32.511612Z",
     "iopub.status.idle": "2025-03-25T06:59:32.735432Z",
     "shell.execute_reply": "2025-03-25T06:59:32.734964Z",
     "shell.execute_reply.started": "2025-03-25T06:59:32.511846Z"
    }
   },
   "outputs": [
    {
     "name": "stdout",
     "output_type": "stream",
     "text": [
      "dj_indep_qiskit_10\n"
     ]
    },
    {
     "data": {
      "image/png": "[encoded data removed]",
      "text/plain": [
       "<Figure size 504x360 with 1 Axes>"
      ]
     },
     "metadata": {
      "needs_background": "light"
     },
     "output_type": "display_data"
    },
    {
     "data": {
      "image/png": "[encoded data removed]",
      "text/plain": [
       "<Figure size 504x360 with 1 Axes>"
      ]
     },
     "metadata": {
      "needs_background": "light"
     },
     "output_type": "display_data"
    },
    {
     "name": "stdout",
     "output_type": "stream",
     "text": [
      "ghz_indep_qiskit_10\n"
     ]
    }
   ],
   "source": [
    "%matplotlib inline\n",
    "#matplotlib.use('MacOSX')\n",
    "for ckt, probs in prob_qasm.items():\n",
    "    print(ckt) \n",
    "    plot_histogram(probs)\n",
    "    plt.show()  "
   ]
  },
  {
   "cell_type": "code",
   "execution_count": 8,
   "id": "e9adaaa8-b0a8-4955-bd50-2662b9f5f3b3",
   "metadata": {
    "execution": {
     "iopub.execute_input": "2025-03-25T07:00:23.063805Z",
     "iopub.status.busy": "2025-03-25T07:00:23.063547Z",
     "iopub.status.idle": "2025-03-25T07:00:23.067502Z",
     "shell.execute_reply": "2025-03-25T07:00:23.067001Z",
     "shell.execute_reply.started": "2025-03-25T07:00:23.063767Z"
    }
   },
   "outputs": [
    {
     "name": "stdout",
     "output_type": "stream",
     "text": [
      "Hellinger Distance: 0.0\n"
     ]
    }
   ],
   "source": [
    "from qiskit.quantum_info import hellinger_distance\n",
    "import numpy as np\n",
    "# Computing Hellinger distance\n",
    "\n",
    "qasm_non_zero={}\n",
    "for i, j in prob_qasm.items():\n",
    "    for a, b in j.items():\n",
    "        c=bin(b)[2:]\n",
    "    qasm_non_zero = dict(zip(keys, values))\n",
    "\n",
    "\n",
    "distance = hellinger_distance(qsim_non_zero, qasm_non_zero)\n",
    "print(f\"Hellinger Distance: {distance}\")"
   ]
  }
 ],
 "metadata": {
  "kernelspec": {
   "display_name": "Python 3",
   "language": "python",
   "name": "python3"
  },
  "language_info": {
   "codemirror_mode": {
    "name": "ipython",
    "version": 3
   },
   "file_extension": ".py",
   "mimetype": "text/x-python",
   "name": "python",
   "nbconvert_exporter": "python",
   "pygments_lexer": "ipython3",
   "version": "3.10.16"
  }
 },
 "nbformat": 4,
 "nbformat_minor": 5
}
